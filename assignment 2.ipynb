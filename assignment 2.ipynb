{
 "cells": [
  {
   "cell_type": "code",
   "execution_count": 1,
   "id": "97aa0e9a",
   "metadata": {},
   "outputs": [
    {
     "name": "stdout",
     "output_type": "stream",
     "text": [
      "Example of a simple for loop with range:\n",
      "0\n",
      "1\n",
      "2\n",
      "3\n",
      "4\n",
      "\n",
      "Example of a for loop with enumerate to access both index and value:\n",
      "Index 0: apple\n",
      "Index 1: banana\n",
      "Index 2: cherry\n"
     ]
    },
    {
     "data": {
      "text/plain": [
       "'cherry'"
      ]
     },
     "execution_count": 1,
     "metadata": {},
     "output_type": "execute_result"
    }
   ],
   "source": [
    "#Q1\n",
    "n = 5\n",
    "print(\"Example of a simple for loop with range:\")\n",
    "for i in range(n):\n",
    "    print(i)\n",
    "\n",
    "a_list = ['apple', 'banana', 'cherry']\n",
    "print(\"\\nExample of a for loop with enumerate to access both index and value:\")\n",
    "for i, x in enumerate(a_list):\n",
    "    print(f\"Index {i}: {x}\")\n",
    "\n",
    "last_value = a_list[-1]\n",
    "last_value \n"
   ]
  },
  {
   "cell_type": "code",
   "execution_count": null,
   "id": "2abc67e7",
   "metadata": {},
   "outputs": [],
   "source": [
    "#Q2\n",
    "for i in range(n):\n",
    "    for x in a_list:\n",
    "        for i, x in enumerate(a_list):\n",
    "            print()\n",
    " #i in range(n):: n is times, the range of numbers starting from 0 to n-1. a range of numbers starting from 0 to n-1.\n",
    "#x in a_list: Iterates over all the elements in the list a_list.\n",
    "#x in enumerate(a_list):The enumerate() function adds a counter to the list iteration. Here, i gets the index of the element, and x gets the element itself from the list a_list"
   ]
  },
  {
   "cell_type": "code",
   "execution_count": 1,
   "id": "4f23e2e6",
   "metadata": {},
   "outputs": [
    {
     "name": "stdout",
     "output_type": "stream",
     "text": [
      "Win percentage when switching: 66.81%\n",
      "Win percentage when staying: 33.43%\n"
     ]
    }
   ],
   "source": [
    "#Q3\n",
    "#Chat GTP：https://chatgpt.com/share/66ea4e24-0348-8009-94a0-d6cdeca13dd8\n",
    "\n",
    "import random\n",
    "#My understand：create random numbers to simulate random situations of hidden cars behind doors, random choices of contestants, etc.\n",
    "\n",
    "# Function to simulate one round of the Monty Hall problem\n",
    "def monty_hall(switch):\n",
    "    #My understand:define a function named 'monty_hall',means playes change the door or not.\n",
    "   \"\"\"\n",
    "    Simulate one round of the Monty Hall problem.\n",
    "    \n",
    "    Args:\n",
    "    switch (bool): If True, the contestant switches their choice.\n",
    "    \n",
    "    Returns:\n",
    "    bool: True if the contestant wins the car, False otherwise.\n",
    "    \"\"\"\n",
    "    \n",
    "    # Randomly place the car behind one of the 3 doors (0, 1, or 2)\n",
    "    doors = [0, 1, 2]\n",
    "    #my understand:create a table inculde 0,1,2.each number means a door.\n",
    "    car = random.choice(doors)\n",
    "#my understand:choose a random door to hide the car.\n",
    "\n",
    "    # Contestant makes a random choice of one of the 3 doors\n",
    "    contestant_choice = random.choice(doors)\n",
    "#my understand:player choose a door.\n",
    "\n",
    "    # Monty opens one of the other two doors, revealing a goat\n",
    "    # Monty can't open the door with the car or the contestant's choice\n",
    "    remaining_doors = [door for door in doors if door != contestant_choice and door != car]\n",
    "    #My understand:create a table named 'remaining door',which isn't the car's door and player choose .\n",
    "    monty_open = random.choice(remaining_doors)\n",
    "#my understand:The moderator randomly opens a door with a goat on it.\n",
    "    # If the contestant switches, they change to the other unopened door\n",
    "    if switch:\n",
    "        # The new choice is the door that is neither the original choice nor Monty's opened door\n",
    "        contestant_choice = [door for door in doors if door != contestant_choice and door != monty_open][0]\n",
    "#my understand:If the player decides to replace the door, the player chooses the only remaining one.\n",
    "    # The contestant wins if their final choice is the door with the car behind it\n",
    "    return contestant_choice == car\n",
    "#my understand:the final choice,car-true,tjen false.\n",
    "# Simulate the Monty Hall problem multiple times\n",
    "def simulate_monty_hall(num_simulations=10000):\n",
    "    #my understand:Simulate 10,000 times.\n",
    "    \"\"\"\n",
    "    Run the Monty Hall simulation for a number of times and return the win percentages \n",
    "    for switching and for staying.\n",
    "    \n",
    "    Args:\n",
    "    num_simulations (int): The number of rounds to simulate.\n",
    "    \n",
    "    Returns:\n",
    "    dict: A dictionary with the win percentages for switching and staying.\n",
    "    \"\"\"\n",
    "    \n",
    "    wins_with_switch = 0\n",
    "    wins_without_switch = 0\n",
    "#my understand:Record the number of wins for door replacement and no door replacement, respectively\n",
    "    for _ in range(num_simulations):\n",
    "        #my understand:Simulate the game multiple times.\n",
    "        # Simulate with switching\n",
    "        if monty_hall(switch=True):\n",
    "            wins_with_switch += 1\n",
    "#my understand:car's register.\n",
    "        # Simulate without switching\n",
    "        if monty_hall(switch=False):\n",
    "            wins_without_switch += 1\n",
    "#my understand:goats' register.\n",
    "    # Calculate win percentages\n",
    "    switch_win_percentage = (wins_with_switch / num_simulations) * 100\n",
    "    stay_win_percentage = (wins_without_switch / num_simulations) * 100\n",
    "#my understand:Calculate the percentage of wins with and without door replacement.\n",
    "    return {\n",
    "        'switch_win_percentage': switch_win_percentage,\n",
    "        'stay_win_percentage': stay_win_percentage\n",
    "    }\n",
    "\n",
    "# Run the simulation and print the results\n",
    "if __name__ == \"__main__\":\n",
    "    results = simulate_monty_hall(10000)  # Simulate 10,000 rounds of the Monty Hall problem\n",
    "    print(f\"Win percentage when switching: {results['switch_win_percentage']:.2f}%\")\n",
    "    print(f\"Win percentage when staying: {results['stay_win_percentage']:.2f}%\")\n",
    "#my understand:Print and execute the code."
   ]
  },
  {
   "cell_type": "code",
   "execution_count": 3,
   "id": "08ecbb9d",
   "metadata": {},
   "outputs": [
    {
     "name": "stdout",
     "output_type": "stream",
     "text": [
      "lazy dog over the lazy dog fox jumps over the\n"
     ]
    },
    {
     "data": {
      "text/html": [
       "\n",
       "        <iframe\n",
       "            width=\"1080\"\n",
       "            height=\"300\"\n",
       "            src=\"https://www.youtube.com/embed/U2QlQwoZkvlCTjLY\"\n",
       "            frameborder=\"0\"\n",
       "            allowfullscreen\n",
       "            \n",
       "        ></iframe>\n",
       "        "
      ],
      "text/plain": [
       "<IPython.lib.display.YouTubeVideo at 0x7f54770958d0>"
      ]
     },
     "execution_count": 3,
     "metadata": {},
     "output_type": "execute_result"
    }
   ],
   "source": [
    "#Q4\n",
    "#chatGTP's link:https://chatgpt.com/share/66eb2aeb-6b34-8009-875a-932b54be1ea6\n",
    "import random\n",
    "\n",
    "class MarkovChatBot:\n",
    "    def __init__(self, corpus):\n",
    "        self.corpus = corpus\n",
    "        self.markov_chain = self.build_markov_chain()\n",
    "    \n",
    "    def build_markov_chain(self):\n",
    "        markov_chain = {}\n",
    "        for i in range(len(self.corpus) - 1):\n",
    "            word = self.corpus[i]\n",
    "            next_word = self.corpus[i + 1]\n",
    "            if word not in markov_chain:\n",
    "                markov_chain[word] = []\n",
    "            markov_chain[word].append(next_word)\n",
    "        return markov_chain\n",
    "    \n",
    "    def generate_sentence(self, length=10):\n",
    "        word = random.choice(list(self.markov_chain.keys()))\n",
    "        sentence = [word]\n",
    "        for _ in range(length - 1):\n",
    "            word = random.choice(self.markov_chain.get(word, [random.choice(list(self.markov_chain.keys()))]))\n",
    "            sentence.append(word)\n",
    "        return ' '.join(sentence)\n",
    "\n",
    "# Example corpus (you can replace it with a series of stories)\n",
    "corpus = \"The quick brown fox jumps over the lazy dog\".split()\n",
    "\n",
    "# Initialize the ChatBot with the corpus\n",
    "chatbot = MarkovChatBot(corpus)\n",
    "\n",
    "# Generate a random sentence\n",
    "print(chatbot.generate_sentence())\n",
    "\n",
    "\n",
    "#My video(i just change the link.)\n",
    "from IPython.display import YouTubeVideo\n",
    "YouTubeVideo('U2QlQwoZkvlCTjLY', width = 1080)\n",
    "#my understand;width= means pixels."
   ]
  },
  {
   "cell_type": "code",
   "execution_count": 2,
   "id": "313d050f",
   "metadata": {},
   "outputs": [],
   "source": [
    "#Q5\n",
    "#chatgpt link:https://chatgpt.com/share/66eb2a36-3a18-8009-b896-24312867530c\n",
    "#1\n"
   ]
  },
  {
   "cell_type": "code",
   "execution_count": null,
   "id": "9640f07b",
   "metadata": {},
   "outputs": [],
   "source": [
    "#Q5 \n",
    "#2\n",
    "#chat gpt link:https://chatgpt.com/share/66ea4e24-0348-8009-94a0-d6cdeca13dd8\n"
   ]
  },
  {
   "cell_type": "code",
   "execution_count": null,
   "id": "7ed532f4",
   "metadata": {},
   "outputs": [],
   "source": [
    "#Q5\n",
    "#3\n",
    "#chat gpt link:https://chatgpt.com/share/66eb26b2-ee28-8009-ab38-4e02325cf9ce"
   ]
  },
  {
   "cell_type": "code",
   "execution_count": null,
   "id": "15433cad",
   "metadata": {},
   "outputs": [],
   "source": [
    "#Q6\n",
    "#1\n",
    "#Chat GPT was very quick ，exact and clearly.The feeling I got was that most of his explanations were good, but there were times when he couldn't understand what I was talking about or couldn't give the right solutions."
   ]
  },
  {
   "cell_type": "code",
   "execution_count": null,
   "id": "03955c74",
   "metadata": {},
   "outputs": [],
   "source": [
    "#6\n",
    "#2\n",
    "#There are times when ChatGPT makes me feel like crap because most of the problems it solves are fast and accurate. But when I have problems that I don't know how to solve he will make me feel first happy and then I will feel sad.Because it feels like it could easily replace me."
   ]
  },
  {
   "cell_type": "code",
   "execution_count": null,
   "id": "ca0a299e",
   "metadata": {},
   "outputs": [],
   "source": [
    "#6\n",
    "#3\n",
    "#very very useful.CHATGPT is very fast, efficient and accurate, but sometimes he gives wrong answers, which is really helpful for a beginner like me, I have no basic knowledge of code, and is always available and patient!"
   ]
  },
  {
   "cell_type": "code",
   "execution_count": null,
   "id": "f639a49a",
   "metadata": {},
   "outputs": [],
   "source": [
    "#7\n",
    "#I've always think AI is useful because it replaces tedious and boring jobs, but robots don't innovate, and as a tool he's great to use, even though it can be sad for me.My view of AI has shifted from being an “automation tool” to being an “intelligent learning partner”. Not only do they accelerate task completion, but they also help me better understand and solve complex problems from different perspectives by providing real-time feedback and explanations."
   ]
  },
  {
   "cell_type": "code",
   "execution_count": null,
   "id": "5b856dc8",
   "metadata": {},
   "outputs": [],
   "source": [
    "#8\n",
    "#1-3\n",
    "#chatgpt's link:https://chatgpt.com/share/66eb30ed-627c-8009-ac10-f0ffb92df0ff\n",
    "\n",
    "#4\n",
    "#I want to be an agent because I love the arts and I think I can learn the arts and make money at the same time, and I think an agent is the best kind of future for me.\n",
    "\n",
    "#5\n",
    "#The gpt is more comprehensive and can be analyzed from more perspectives, but lacks flexibility. Expert advice is more specialized, but often lacks comprehensiveness."
   ]
  },
  {
   "cell_type": "code",
   "execution_count": null,
   "id": "8409d299",
   "metadata": {},
   "outputs": [],
   "source": [
    "#9\n",
    "#somewhat"
   ]
  }
 ],
 "metadata": {
  "kernelspec": {
   "display_name": "Python 3 (ipykernel)",
   "language": "python",
   "name": "python3"
  },
  "language_info": {
   "codemirror_mode": {
    "name": "ipython",
    "version": 3
   },
   "file_extension": ".py",
   "mimetype": "text/x-python",
   "name": "python",
   "nbconvert_exporter": "python",
   "pygments_lexer": "ipython3",
   "version": "3.11.6"
  }
 },
 "nbformat": 4,
 "nbformat_minor": 5
}
